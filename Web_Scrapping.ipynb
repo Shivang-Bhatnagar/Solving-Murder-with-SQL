{
 "cells": [
  {
   "cell_type": "markdown",
   "metadata": {},
   "source": [
    "# Importing Necessary Libraries"
   ]
  },
  {
   "cell_type": "code",
   "execution_count": null,
   "metadata": {},
   "outputs": [],
   "source": [
    "import requests\n",
    "from bs4 import BeautifulSoup as bs\n",
    "import pandas as pd"
   ]
  },
  {
   "cell_type": "markdown",
   "metadata": {},
   "source": [
    "# Extracting Books Details\n",
    "\n",
    "This Python function, extract_book_details, parses information from a given book tag, typically obtained from a webpage containing a list of books. It extracts details such as the book's title, rating, price, and link to its individual page.\n",
    "\n",
    "1.The Title is extracted from the title attribute of the anchor tag within the book tag.\n",
    "2.The Rating is derived from the second class of the paragraph tag within the book tag.\n",
    "3.The Price is obtained from the text within a paragraph tag with the class price_color, excluding the currency symbol at the beginning.\n",
    "4.The Link is formed by appending the relative URL obtained from the anchor tag to the base URL of the website.\n",
    "\n",
    "The function then returns these extracted details as a tuple: (Title, Rating, Price, Link)."
   ]
  },
  {
   "cell_type": "code",
   "execution_count": null,
   "metadata": {},
   "outputs": [],
   "source": [
    "def extract_book_details(book_tag):\n",
    "    Title = book_tag.find('a', title=True)['title']\n",
    "    Rating = book_tag.find('p')['class'][1]\n",
    "    Price = book_tag.find('p', class_='price_color').text[1:]\n",
    "    Link = 'http://books.toscrape.com/' + book_tag.find('a')['href']\n",
    "    return Title, Rating, Price, Link"
   ]
  },
  {
   "cell_type": "markdown",
   "metadata": {},
   "source": [
    "# Establishing Connection\n",
    "\n",
    "This Python function, fetch_page_soup, is responsible for retrieving the HTML content of a webpage specified by the url parameter and converting it into a BeautifulSoup object for parsing.\n",
    "\n",
    "1.It first sends a GET request to the provided URL using the requests.get() function from the requests library.\n",
    "2.If the response status code is 200 (indicating a successful request), the HTML content of the webpage is passed to the bs() function (assuming it's an alias for BeautifulSoup), creating a BeautifulSoup object.\n",
    "3.If the status code is not 200 (indicating an unsuccessful request), the function returns None, signifying that the webpage could not be fetched."
   ]
  },
  {
   "cell_type": "code",
   "execution_count": null,
   "metadata": {},
   "outputs": [],
   "source": [
    "def fetch_page_soup(url):\n",
    "    resp = requests.get(url)\n",
    "    if resp.status_code == 200:\n",
    "        return bs(resp.text)\n",
    "    else: return None"
   ]
  },
  {
   "cell_type": "markdown",
   "metadata": {},
   "source": [
    "# Scrapping the Data \n",
    "\n",
    "This Python script retrieves data from multiple pages of a fictional online bookstore and stores it in a structured format using the Pandas library. The fetch_books_data function iterates through a specified number of pages, extracts book details such as title, rating, price, and link, and compiles them into a DataFrame. Each page's HTML content is fetched using a helper function (fetch_page_soup), and book details are extracted from HTML elements using another helper function (extract_book_details). The resulting DataFrame contains the aggregated book data, ready for further analysis or processing."
   ]
  },
  {
   "cell_type": "code",
   "execution_count": null,
   "metadata": {},
   "outputs": [],
   "source": [
    "def fetch_books_data(pages=7):\n",
    "    all_books = []\n",
    "    for page_num in range(1, pages + 1):\n",
    "        page_url = f'http://books.toscrape.com/catalogue/page-{page_num}.html'\n",
    "        page_soup = fetch_page_soup(page_url)\n",
    "        if page_soup:\n",
    "            book_tags = page_soup.find_all('article', class_='product_pod')\n",
    "            for book_tag in book_tags:\n",
    "                book_info = extract_book_details(book_tag)\n",
    "                all_books.append(book_info)\n",
    "\n",
    "    all_books = pd.DataFrame(all_books, columns=['Title', 'Rating', 'Price', 'Link'])\n",
    "    return all_books\n"
   ]
  },
  {
   "cell_type": "code",
   "execution_count": null,
   "metadata": {},
   "outputs": [],
   "source": [
    "df = fetch_books_data(7)\n",
    "df.head(10)"
   ]
  }
 ],
 "metadata": {
  "kernelspec": {
   "display_name": "Python 3",
   "language": "python",
   "name": "python3"
  },
  "language_info": {
   "codemirror_mode": {
    "name": "ipython",
    "version": 3
   },
   "file_extension": ".py",
   "mimetype": "text/x-python",
   "name": "python",
   "nbconvert_exporter": "python",
   "pygments_lexer": "ipython3",
   "version": "3.8.3"
  }
 },
 "nbformat": 4,
 "nbformat_minor": 4
}
